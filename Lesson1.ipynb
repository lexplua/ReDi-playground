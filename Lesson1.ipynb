{
 "cells": [
  {
   "cell_type": "markdown",
   "id": "8b0ce775-024b-4e3d-b279-cb978de34d1e",
   "metadata": {},
   "source": [
    "# Basic printint, arithmetic and variables\n"
   ]
  },
  {
   "cell_type": "code",
   "execution_count": null,
   "id": "18bb7d35-4475-4d9e-85e8-c7f8c331a4f7",
   "metadata": {
    "tags": []
   },
   "outputs": [],
   "source": [
    "print(40 + 2)"
   ]
  },
  {
   "cell_type": "code",
   "execution_count": null,
   "id": "3095b16c-fee9-4cce-a0ea-f58f875a53fd",
   "metadata": {
    "tags": []
   },
   "outputs": [],
   "source": [
    "print(100 - 4)"
   ]
  },
  {
   "cell_type": "code",
   "execution_count": null,
   "id": "698acec2-191e-445c-a5d8-ed7710f3c6eb",
   "metadata": {
    "tags": []
   },
   "outputs": [],
   "source": [
    "print(3 * 4)"
   ]
  },
  {
   "cell_type": "code",
   "execution_count": null,
   "id": "5f2fcbd1-315d-4c5b-a9c8-af63bf59ce83",
   "metadata": {
    "tags": []
   },
   "outputs": [],
   "source": [
    "print(3 ** 4)"
   ]
  },
  {
   "cell_type": "code",
   "execution_count": null,
   "id": "c7dc5d88-f1da-4b7f-bf03-faa0a8bd4ffd",
   "metadata": {
    "tags": []
   },
   "outputs": [],
   "source": [
    "print (16 / 5)"
   ]
  },
  {
   "cell_type": "code",
   "execution_count": null,
   "id": "c02834d9-2825-4ce6-9be8-1bd972fbddf6",
   "metadata": {
    "tags": []
   },
   "outputs": [],
   "source": [
    "print(((1 + 3) * (9 - 2) / 2) ** 2)"
   ]
  },
  {
   "cell_type": "code",
   "execution_count": null,
   "id": "76e4cf84-c8f4-4068-9d09-5f926162e503",
   "metadata": {
    "tags": []
   },
   "outputs": [],
   "source": [
    "days_in_year = 365\n",
    "days_in_lap_year = days_in_year + 1\n",
    "\n",
    "print(\"There are\", days_in_year, \"days in year\" )\n",
    "print(\"There are\", days_in_lap_year, \"days in lap year\" )"
   ]
  },
  {
   "cell_type": "code",
   "execution_count": null,
   "id": "599ebdbc-d9e9-4398-8d4a-e9590ff4ef9c",
   "metadata": {
    "tags": []
   },
   "outputs": [],
   "source": [
    "# Define variables\n",
    "seconds_in_minute = 60\n",
    "minutes_in_hour = 60\n",
    "hours_per_day = 24\n",
    "\n",
    "# How many seconds per year ?\n",
    "seconds_in_year = seconds_in_minute * minutes_in_hour * hours_per_day * days_in_year\n",
    "print(\"There are\", seconds_in_year, \"seconds in one year\")"
   ]
  },
  {
   "cell_type": "markdown",
   "id": "aab7b8f4-3647-4c0b-9dab-553d1ed93ed6",
   "metadata": {},
   "source": [
    "## Exercise"
   ]
  },
  {
   "cell_type": "code",
   "execution_count": null,
   "id": "b6522e13-a3cb-45cb-834f-b4b630aa2875",
   "metadata": {
    "tags": []
   },
   "outputs": [],
   "source": [
    "# How many seconds in lap year ?\n",
    "\n",
    "seconds_in_lap_year = #ADD SOLUTION HERE#\n",
    "print(\"There are\", seconds_in_lap_year, \"seconds in one lap year\")"
   ]
  },
  {
   "cell_type": "markdown",
   "id": "a0aa89f4-e1c9-40bd-8e3b-dbd4219cb988",
   "metadata": {
    "tags": []
   },
   "source": [
    "# Functions"
   ]
  },
  {
   "cell_type": "code",
   "execution_count": null,
   "id": "247af4be-06e6-48b4-8d7a-96deaed9456d",
   "metadata": {
    "tags": []
   },
   "outputs": [],
   "source": [
    "# Define the function\n",
    "def add_three(input_var):\n",
    "    output_var = input_var + 3\n",
    "    return output_var"
   ]
  },
  {
   "cell_type": "code",
   "execution_count": null,
   "id": "57c5552d-63e6-44d4-940f-fb3bf840191a",
   "metadata": {
    "tags": []
   },
   "outputs": [],
   "source": [
    "add_three(39)"
   ]
  },
  {
   "cell_type": "markdown",
   "id": "0b8381eb-fbeb-44a5-a809-d6b06b9dd156",
   "metadata": {},
   "source": [
    "## Exercise"
   ]
  },
  {
   "cell_type": "code",
   "execution_count": null,
   "id": "1500cd7e-5c30-4c82-a739-df0f16483159",
   "metadata": {
    "tags": []
   },
   "outputs": [],
   "source": [
    "# For tax class 4 in Germany every taxpayer should pay approx. 31.6% of income as taxes.\n",
    "# Write a function to compute and return netto salary (after taxes)\n",
    "\n",
    "def calculate_netto_salary(brutto_income):\n",
    "    taxes = #ADD SOLUTION HERE#\n",
    "    netto_income = #ADD SOLUTION HERE#\n",
    "    return #ADD SOLUTION HERE#"
   ]
  },
  {
   "cell_type": "code",
   "execution_count": null,
   "id": "088d5fea-ef90-4b11-b7fc-798d7ed4c365",
   "metadata": {},
   "outputs": [],
   "source": [
    "brutto_income = 3000\n",
    "netto_income = calculate_netto_salary(3000)\n",
    "print(f\"With {brutto_income} salary, netto income is {netto_income}\")"
   ]
  }
 ],
 "metadata": {
  "kernelspec": {
   "display_name": "Python 3 (ipykernel)",
   "language": "python",
   "name": "python3"
  },
  "language_info": {
   "codemirror_mode": {
    "name": "ipython",
    "version": 3
   },
   "file_extension": ".py",
   "mimetype": "text/x-python",
   "name": "python",
   "nbconvert_exporter": "python",
   "pygments_lexer": "ipython3",
   "version": "3.8.17"
  }
 },
 "nbformat": 4,
 "nbformat_minor": 5
}
